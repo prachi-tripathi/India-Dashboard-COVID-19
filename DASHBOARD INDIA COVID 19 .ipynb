{
 "cells": [
  {
   "cell_type": "code",
   "execution_count": 38,
   "metadata": {},
   "outputs": [],
   "source": [
    "import pandas as pd\n",
    "import numpy as np\n",
    "import plotly.express as px\n",
    "import plotly.graph_objects as go\n",
    "from ipywidgets import interact\n",
    "import ipywidgets as widgets\n",
    "import folium\n",
    "import warnings\n",
    "warnings.simplefilter('ignore')\n",
    "from IPython.display import display, HTML\n",
    "from pandas import datetime\n",
    "import io\n",
    "import re"
   ]
  },
  {
   "cell_type": "code",
   "execution_count": 39,
   "metadata": {
    "scrolled": true
   },
   "outputs": [
    {
     "data": {
      "text/html": [
       "<p><img src=\"bannr.png\" align=\"center\"></img></p>\n"
      ],
      "text/plain": [
       "<IPython.core.display.HTML object>"
      ]
     },
     "metadata": {},
     "output_type": "display_data"
    }
   ],
   "source": [
    " %%HTML\n",
    "<p><img src=\"bannr.png\" align=\"center\"></img></p>"
   ]
  },
  {
   "cell_type": "code",
   "execution_count": 40,
   "metadata": {
    "scrolled": true
   },
   "outputs": [
    {
     "data": {
      "text/html": [
       "\n",
       "<div style = \"text-align: justify;\">\n",
       "<div style = \"Trebuchet MS;font-size:20px;color:#999999;text-align:center;\" ><h2>Interactive Analysis Dashboard</h2></div><br>\n",
       "<div style = \"Trebuchet MS;font-size:20px;color:#999999;line-height: 1.6;text-align: justify;\" >Coronaviruses are a large family of viruses that may cause respiratory illnesses in humans ranging from common colds to more severe conditions such as Severe Acute Respiratory Syndrome (SARS) and Middle Eastern Respiratory Syndrome (MERS). Novel coronavirus is a new, previously unidentified strain of coronavirus. The coronavirus involved in the current outbreak has been named SARS-CoV by the World Health Organization (WHO).The disease it causes has been named “coronavirus disease 2019” or “COVID-19”.</div>\n",
       "</div>\n"
      ],
      "text/plain": [
       "<IPython.core.display.HTML object>"
      ]
     },
     "metadata": {},
     "output_type": "display_data"
    }
   ],
   "source": [
    "%%HTML\n",
    "\n",
    "<div style = \"text-align: justify;\">\n",
    "<div style = \"Trebuchet MS;font-size:20px;color:#999999;text-align:center;\" ><h2>Interactive Analysis Dashboard</h2></div><br>\n",
    "<div style = \"Trebuchet MS;font-size:20px;color:#999999;line-height: 1.6;text-align: justify;\" >Coronaviruses are a large family of viruses that may cause respiratory illnesses in humans ranging from common colds to more severe conditions such as Severe Acute Respiratory Syndrome (SARS) and Middle Eastern Respiratory Syndrome (MERS). Novel coronavirus is a new, previously unidentified strain of coronavirus. The coronavirus involved in the current outbreak has been named SARS-CoV by the World Health Organization (WHO).The disease it causes has been named “coronavirus disease 2019” or “COVID-19”.</div>\n",
    "</div>"
   ]
  },
  {
   "cell_type": "code",
   "execution_count": 41,
   "metadata": {},
   "outputs": [],
   "source": [
    "# Loading the online state wise data from csv files \n",
    "\n",
    "statewise_df = pd.read_csv('https://api.covid19india.org/csv/latest/state_wise.csv')\n",
    "latlong_df = pd.read_csv('latlong.csv')"
   ]
  },
  {
   "cell_type": "code",
   "execution_count": 42,
   "metadata": {},
   "outputs": [],
   "source": [
    "mydateparser = lambda x: pd.datetime.strptime(str(x), \"%d/%m/%Y\")"
   ]
  },
  {
   "cell_type": "code",
   "execution_count": 43,
   "metadata": {},
   "outputs": [
    {
     "name": "stdout",
     "output_type": "stream",
     "text": [
      "(56423, 6)\n"
     ]
    }
   ],
   "source": [
    "district_datewise_df1 = pd.read_csv('https://api.covid19india.org/csv/latest/raw_data1.csv',parse_dates= True, infer_datetime_format=True,date_parser=mydateparser)\n",
    "district_datewise_df1 = district_datewise_df1[['Detected State','Detected District','Detected City','Date Announced','Num cases','Current Status']]\n",
    "district_datewise_df1.columns = map(str.lower, district_datewise_df1.columns)\n",
    "#print(district_datewise_df1.shape)\n",
    "\n",
    "district_datewise_df2 = pd.read_csv('https://api.covid19india.org/csv/latest/raw_data2.csv',parse_dates= True, infer_datetime_format=True,date_parser=mydateparser)\n",
    "district_datewise_df2 = district_datewise_df2[['Detected State','Detected District','Detected City','Date Announced','Num cases','Current Status']]\n",
    "district_datewise_df2.columns = map(str.lower, district_datewise_df2.columns)\n",
    "#print(district_datewise_df2.shape)\n",
    "\n",
    "district_datewise_df3 = pd.read_csv('https://api.covid19india.org/csv/latest/raw_data3.csv',parse_dates= True, infer_datetime_format=True,date_parser=mydateparser)\n",
    "district_datewise_df3 = district_datewise_df3[['Detected State','Detected District','Detected City','Date Announced','Num Cases','Current Status']]\n",
    "district_datewise_df3.columns = map(str.lower, district_datewise_df3.columns)\n",
    "#print(district_datewise_df3.shape)\n",
    "\n",
    "district_datewise_df4 = pd.read_csv('https://api.covid19india.org/csv/latest/raw_data4.csv',parse_dates= True, infer_datetime_format=True,date_parser=mydateparser)\n",
    "district_datewise_df4 = district_datewise_df4[['Detected State','Detected District','Detected City','Date Announced','Num Cases','Current Status']]\n",
    "district_datewise_df4.columns = map(str.lower, district_datewise_df4.columns)\n",
    "#print(district_datewise_df4.shape) \n",
    "\n",
    "# district_datewise_df5 = pd.read_csv('https://api.covid19india.org/csv/latest/raw_data5.csv',parse_dates= True, infer_datetime_format=True,date_parser=mydateparser)\n",
    "# district_datewise_df5 = district_datewise_df4[['Detected State','Detected District','Detected City','Date Announced','Num Cases','Current Status']]\n",
    "# district_datewise_df5.columns = map(str.lower, district_datewise_df4.columns)\n",
    "# print(district_datewise_df5.shape) \n",
    "\n",
    "\n",
    "\n",
    "district_datewise_df = pd.concat([district_datewise_df1,district_datewise_df2,district_datewise_df3,district_datewise_df4], axis=0)\n",
    "print(district_datewise_df.shape)\n",
    "\n",
    "\n",
    "# for url_no in range(2,5):\n",
    "    \n",
    "#     url = 'https://api.covid19india.org/csv/latest/raw_data{n}.csv'\n",
    "#     url_no = str(url_no)\n",
    "#     print(url_no)\n",
    "#     new_url = url.replace('{n}', url_no)\n",
    "#     print(new_url)\n",
    "   \n",
    "#     read_csv =  pd.read_csv(new_url)\n",
    "#     district_datewise_df = pd.concat([district_datewise_df1,read_csv], axis=0)\n",
    "#    print(district_datewise_df.shape)\n",
    "\n"
   ]
  },
  {
   "cell_type": "code",
   "execution_count": 44,
   "metadata": {},
   "outputs": [],
   "source": [
    "# Droping the the first row total\n",
    "statewise_df.drop(statewise_df.index[[0]],axis=0, inplace = True)"
   ]
  },
  {
   "cell_type": "code",
   "execution_count": 45,
   "metadata": {},
   "outputs": [],
   "source": [
    "\n",
    "indicator_df  = statewise_df.copy()\n",
    "indicator_df.columns = map(str.lower, indicator_df.columns)"
   ]
  },
  {
   "cell_type": "code",
   "execution_count": 46,
   "metadata": {},
   "outputs": [],
   "source": [
    "indicator_df = indicator_df.drop(['state_code','last_updated_time','state_notes'], axis = 1)\n"
   ]
  },
  {
   "cell_type": "code",
   "execution_count": 47,
   "metadata": {},
   "outputs": [],
   "source": [
    "# creating dataframe for the folium map merging lat long dataframe\n",
    "\n",
    "statewise_folium_df = statewise_df.copy()\n",
    "statewise_folium_df = statewise_folium_df.replace('State Unassigned','India')\n",
    "statewise_folium_df = statewise_folium_df[['State','Confirmed','Recovered','Deaths','Active']]\n",
    "statewise_folium_df.sort_values(by=['State','Confirmed'] , inplace=True, ascending=True)\n",
    "statewise_folium_df.reset_index(inplace = True, drop = True)\n",
    "lat_long_merged_df = pd.concat([statewise_folium_df, latlong_df], axis = 1)\n",
    "#lat_long_merged_df"
   ]
  },
  {
   "cell_type": "code",
   "execution_count": 48,
   "metadata": {},
   "outputs": [],
   "source": [
    "# droping Extra column from the lat long df\n",
    "\n",
    "lat_long_merged_df.drop(['State_lat_long'], inplace = True, axis=1)\n"
   ]
  },
  {
   "cell_type": "code",
   "execution_count": 49,
   "metadata": {},
   "outputs": [],
   "source": [
    "# coverting all the coloumss into lower cases using map function \n",
    "\n",
    "statewise_df.columns = map(str.lower, statewise_df.columns)\n"
   ]
  },
  {
   "cell_type": "code",
   "execution_count": 50,
   "metadata": {
    "scrolled": true
   },
   "outputs": [],
   "source": [
    "# changing province/state to state and state/region to state\n",
    "\n",
    "statewise_df = statewise_df.rename(columns={'last_updated_time': 'last_update'})\n"
   ]
  },
  {
   "cell_type": "code",
   "execution_count": 51,
   "metadata": {},
   "outputs": [],
   "source": [
    "# Changing some column name for the readibility purpose.\n",
    "\n",
    "district_datewise_df = district_datewise_df.rename(columns={'detected state': 'state','detected district':'district','detected city':'city','date announced':'date','num cases':'count','Current Status':'status'})\n"
   ]
  },
  {
   "cell_type": "code",
   "execution_count": 52,
   "metadata": {
    "scrolled": true
   },
   "outputs": [
    {
     "data": {
      "text/html": [
       "<div style = \"font-family:Trebuchet MS;font-size:12px;color:#999999;align:center\"><h1>Last Updated</h1></div>"
      ],
      "text/plain": [
       "<IPython.core.display.HTML object>"
      ]
     },
     "metadata": {},
     "output_type": "display_data"
    },
    {
     "name": "stdout",
     "output_type": "stream",
     "text": [
      "\u001b[1;34;143m 03/06/2020 20:46:04 \n",
      "\n"
     ]
    }
   ],
   "source": [
    "# Fetching the last_update time from the statewise_df\n",
    "\n",
    "last_update = statewise_df['last_update'].values[0]\n",
    "display(HTML('<div style = \"font-family:Trebuchet MS;font-size:12px;color:#999999;align:center\"><h1>Last Updated</h1></div>'))\n",
    "\n",
    "\n",
    "def change_date_format(dt):\n",
    "        return re.sub(r'(\\d{4})-(\\d{1,2})-(\\d{1,2})', '\\\\3-\\\\2-\\\\1', dt)\n",
    "dt1 = \"2026-01-02\"\n",
    "print(\"\\033[1;34;143m\", change_date_format(last_update), \"\\n\")\n"
   ]
  },
  {
   "cell_type": "code",
   "execution_count": 53,
   "metadata": {},
   "outputs": [
    {
     "data": {
      "text/html": [
       "<br><br><div style = \"font-family:Trebuchet MS;font-size:30px;color:#999999;\">Daily Indicator</div><br>"
      ],
      "text/plain": [
       "<IPython.core.display.HTML object>"
      ]
     },
     "metadata": {},
     "output_type": "display_data"
    },
    {
     "data": {
      "application/vnd.plotly.v1+json": {
       "config": {
        "plotlyServerURL": "https://plot.ly"
       },
       "data": [
        {
         "align": "center",
         "delta": {
          "increasing": {
           "color": "#0000FF"
          },
          "position": "top",
          "reference": null,
          "relative": false,
          "valueformat": ".0f"
         },
         "domain": {
          "column": 0,
          "row": 0
         },
         "mode": "number+delta",
         "title": {
          "align": "center",
          "text": "<span style='font-family:Trebuchet MS;font-size:30px;color:#0000FF'><b>Confirmed</b></span>"
         },
         "type": "indicator",
         "value": 74860
        },
        {
         "align": "center",
         "delta": {
          "increasing": {
           "color": "#7CFC00"
          },
          "position": "top",
          "reference": 32329,
          "relative": false,
          "valueformat": ".0f"
         },
         "domain": {
          "column": 0,
          "row": 1
         },
         "mode": "number+delta",
         "title": {
          "align": "center",
          "text": "<span style=';font-family:Trebuchet MS;font-size:30px;color:#7CFC00'><b>Recovered</b></span>"
         },
         "type": "indicator",
         "value": 32329
        },
        {
         "align": "center",
         "delta": {
          "increasing": {
           "color": "#ff33cc"
          },
          "position": "top",
          "reference": null,
          "relative": false,
          "valueformat": ".0f"
         },
         "domain": {
          "column": 1,
          "row": 0
         },
         "mode": "number+delta",
         "title": {
          "align": "center",
          "text": "<span style=';font-family:Trebuchet MS;font-size:30px;color:#ff33cc'><b>Active</b></span>"
         },
         "type": "indicator",
         "value": 39944
        },
        {
         "align": "center",
         "delta": {
          "increasing": {
           "color": "#FF0000"
          },
          "position": "top",
          "reference": 2587,
          "relative": false,
          "valueformat": ".0f"
         },
         "domain": {
          "column": 1,
          "row": 1
         },
         "mode": "number+delta",
         "title": {
          "align": "center",
          "text": "<span style=';font-family:Trebuchet MS;font-size:30px;color:#FF0000'><b>Death</b></span>"
         },
         "type": "indicator",
         "value": 2587
        }
       ],
       "layout": {
        "grid": {
         "columns": 2,
         "pattern": "coupled",
         "rows": 2
        },
        "template": {
         "data": {
          "bar": [
           {
            "error_x": {
             "color": "#2a3f5f"
            },
            "error_y": {
             "color": "#2a3f5f"
            },
            "marker": {
             "line": {
              "color": "#E5ECF6",
              "width": 0.5
             }
            },
            "type": "bar"
           }
          ],
          "barpolar": [
           {
            "marker": {
             "line": {
              "color": "#E5ECF6",
              "width": 0.5
             }
            },
            "type": "barpolar"
           }
          ],
          "carpet": [
           {
            "aaxis": {
             "endlinecolor": "#2a3f5f",
             "gridcolor": "white",
             "linecolor": "white",
             "minorgridcolor": "white",
             "startlinecolor": "#2a3f5f"
            },
            "baxis": {
             "endlinecolor": "#2a3f5f",
             "gridcolor": "white",
             "linecolor": "white",
             "minorgridcolor": "white",
             "startlinecolor": "#2a3f5f"
            },
            "type": "carpet"
           }
          ],
          "choropleth": [
           {
            "colorbar": {
             "outlinewidth": 0,
             "ticks": ""
            },
            "type": "choropleth"
           }
          ],
          "contour": [
           {
            "colorbar": {
             "outlinewidth": 0,
             "ticks": ""
            },
            "colorscale": [
             [
              0,
              "#0d0887"
             ],
             [
              0.1111111111111111,
              "#46039f"
             ],
             [
              0.2222222222222222,
              "#7201a8"
             ],
             [
              0.3333333333333333,
              "#9c179e"
             ],
             [
              0.4444444444444444,
              "#bd3786"
             ],
             [
              0.5555555555555556,
              "#d8576b"
             ],
             [
              0.6666666666666666,
              "#ed7953"
             ],
             [
              0.7777777777777778,
              "#fb9f3a"
             ],
             [
              0.8888888888888888,
              "#fdca26"
             ],
             [
              1,
              "#f0f921"
             ]
            ],
            "type": "contour"
           }
          ],
          "contourcarpet": [
           {
            "colorbar": {
             "outlinewidth": 0,
             "ticks": ""
            },
            "type": "contourcarpet"
           }
          ],
          "heatmap": [
           {
            "colorbar": {
             "outlinewidth": 0,
             "ticks": ""
            },
            "colorscale": [
             [
              0,
              "#0d0887"
             ],
             [
              0.1111111111111111,
              "#46039f"
             ],
             [
              0.2222222222222222,
              "#7201a8"
             ],
             [
              0.3333333333333333,
              "#9c179e"
             ],
             [
              0.4444444444444444,
              "#bd3786"
             ],
             [
              0.5555555555555556,
              "#d8576b"
             ],
             [
              0.6666666666666666,
              "#ed7953"
             ],
             [
              0.7777777777777778,
              "#fb9f3a"
             ],
             [
              0.8888888888888888,
              "#fdca26"
             ],
             [
              1,
              "#f0f921"
             ]
            ],
            "type": "heatmap"
           }
          ],
          "heatmapgl": [
           {
            "colorbar": {
             "outlinewidth": 0,
             "ticks": ""
            },
            "colorscale": [
             [
              0,
              "#0d0887"
             ],
             [
              0.1111111111111111,
              "#46039f"
             ],
             [
              0.2222222222222222,
              "#7201a8"
             ],
             [
              0.3333333333333333,
              "#9c179e"
             ],
             [
              0.4444444444444444,
              "#bd3786"
             ],
             [
              0.5555555555555556,
              "#d8576b"
             ],
             [
              0.6666666666666666,
              "#ed7953"
             ],
             [
              0.7777777777777778,
              "#fb9f3a"
             ],
             [
              0.8888888888888888,
              "#fdca26"
             ],
             [
              1,
              "#f0f921"
             ]
            ],
            "type": "heatmapgl"
           }
          ],
          "histogram": [
           {
            "marker": {
             "colorbar": {
              "outlinewidth": 0,
              "ticks": ""
             }
            },
            "type": "histogram"
           }
          ],
          "histogram2d": [
           {
            "colorbar": {
             "outlinewidth": 0,
             "ticks": ""
            },
            "colorscale": [
             [
              0,
              "#0d0887"
             ],
             [
              0.1111111111111111,
              "#46039f"
             ],
             [
              0.2222222222222222,
              "#7201a8"
             ],
             [
              0.3333333333333333,
              "#9c179e"
             ],
             [
              0.4444444444444444,
              "#bd3786"
             ],
             [
              0.5555555555555556,
              "#d8576b"
             ],
             [
              0.6666666666666666,
              "#ed7953"
             ],
             [
              0.7777777777777778,
              "#fb9f3a"
             ],
             [
              0.8888888888888888,
              "#fdca26"
             ],
             [
              1,
              "#f0f921"
             ]
            ],
            "type": "histogram2d"
           }
          ],
          "histogram2dcontour": [
           {
            "colorbar": {
             "outlinewidth": 0,
             "ticks": ""
            },
            "colorscale": [
             [
              0,
              "#0d0887"
             ],
             [
              0.1111111111111111,
              "#46039f"
             ],
             [
              0.2222222222222222,
              "#7201a8"
             ],
             [
              0.3333333333333333,
              "#9c179e"
             ],
             [
              0.4444444444444444,
              "#bd3786"
             ],
             [
              0.5555555555555556,
              "#d8576b"
             ],
             [
              0.6666666666666666,
              "#ed7953"
             ],
             [
              0.7777777777777778,
              "#fb9f3a"
             ],
             [
              0.8888888888888888,
              "#fdca26"
             ],
             [
              1,
              "#f0f921"
             ]
            ],
            "type": "histogram2dcontour"
           }
          ],
          "indicator": [
           {
            "delta": {
             "reference": 90
            },
            "type": "indicator"
           }
          ],
          "mesh3d": [
           {
            "colorbar": {
             "outlinewidth": 0,
             "ticks": ""
            },
            "type": "mesh3d"
           }
          ],
          "parcoords": [
           {
            "line": {
             "colorbar": {
              "outlinewidth": 0,
              "ticks": ""
             }
            },
            "type": "parcoords"
           }
          ],
          "pie": [
           {
            "automargin": true,
            "type": "pie"
           }
          ],
          "scatter": [
           {
            "marker": {
             "colorbar": {
              "outlinewidth": 0,
              "ticks": ""
             }
            },
            "type": "scatter"
           }
          ],
          "scatter3d": [
           {
            "line": {
             "colorbar": {
              "outlinewidth": 0,
              "ticks": ""
             }
            },
            "marker": {
             "colorbar": {
              "outlinewidth": 0,
              "ticks": ""
             }
            },
            "type": "scatter3d"
           }
          ],
          "scattercarpet": [
           {
            "marker": {
             "colorbar": {
              "outlinewidth": 0,
              "ticks": ""
             }
            },
            "type": "scattercarpet"
           }
          ],
          "scattergeo": [
           {
            "marker": {
             "colorbar": {
              "outlinewidth": 0,
              "ticks": ""
             }
            },
            "type": "scattergeo"
           }
          ],
          "scattergl": [
           {
            "marker": {
             "colorbar": {
              "outlinewidth": 0,
              "ticks": ""
             }
            },
            "type": "scattergl"
           }
          ],
          "scattermapbox": [
           {
            "marker": {
             "colorbar": {
              "outlinewidth": 0,
              "ticks": ""
             }
            },
            "type": "scattermapbox"
           }
          ],
          "scatterpolar": [
           {
            "marker": {
             "colorbar": {
              "outlinewidth": 0,
              "ticks": ""
             }
            },
            "type": "scatterpolar"
           }
          ],
          "scatterpolargl": [
           {
            "marker": {
             "colorbar": {
              "outlinewidth": 0,
              "ticks": ""
             }
            },
            "type": "scatterpolargl"
           }
          ],
          "scatterternary": [
           {
            "marker": {
             "colorbar": {
              "outlinewidth": 0,
              "ticks": ""
             }
            },
            "type": "scatterternary"
           }
          ],
          "surface": [
           {
            "colorbar": {
             "outlinewidth": 0,
             "ticks": ""
            },
            "colorscale": [
             [
              0,
              "#0d0887"
             ],
             [
              0.1111111111111111,
              "#46039f"
             ],
             [
              0.2222222222222222,
              "#7201a8"
             ],
             [
              0.3333333333333333,
              "#9c179e"
             ],
             [
              0.4444444444444444,
              "#bd3786"
             ],
             [
              0.5555555555555556,
              "#d8576b"
             ],
             [
              0.6666666666666666,
              "#ed7953"
             ],
             [
              0.7777777777777778,
              "#fb9f3a"
             ],
             [
              0.8888888888888888,
              "#fdca26"
             ],
             [
              1,
              "#f0f921"
             ]
            ],
            "type": "surface"
           }
          ],
          "table": [
           {
            "cells": {
             "fill": {
              "color": "#EBF0F8"
             },
             "line": {
              "color": "white"
             }
            },
            "header": {
             "fill": {
              "color": "#C8D4E3"
             },
             "line": {
              "color": "white"
             }
            },
            "type": "table"
           }
          ]
         },
         "layout": {
          "annotationdefaults": {
           "arrowcolor": "#2a3f5f",
           "arrowhead": 0,
           "arrowwidth": 1
          },
          "coloraxis": {
           "colorbar": {
            "outlinewidth": 0,
            "ticks": ""
           }
          },
          "colorscale": {
           "diverging": [
            [
             0,
             "#8e0152"
            ],
            [
             0.1,
             "#c51b7d"
            ],
            [
             0.2,
             "#de77ae"
            ],
            [
             0.3,
             "#f1b6da"
            ],
            [
             0.4,
             "#fde0ef"
            ],
            [
             0.5,
             "#f7f7f7"
            ],
            [
             0.6,
             "#e6f5d0"
            ],
            [
             0.7,
             "#b8e186"
            ],
            [
             0.8,
             "#7fbc41"
            ],
            [
             0.9,
             "#4d9221"
            ],
            [
             1,
             "#276419"
            ]
           ],
           "sequential": [
            [
             0,
             "#0d0887"
            ],
            [
             0.1111111111111111,
             "#46039f"
            ],
            [
             0.2222222222222222,
             "#7201a8"
            ],
            [
             0.3333333333333333,
             "#9c179e"
            ],
            [
             0.4444444444444444,
             "#bd3786"
            ],
            [
             0.5555555555555556,
             "#d8576b"
            ],
            [
             0.6666666666666666,
             "#ed7953"
            ],
            [
             0.7777777777777778,
             "#fb9f3a"
            ],
            [
             0.8888888888888888,
             "#fdca26"
            ],
            [
             1,
             "#f0f921"
            ]
           ],
           "sequentialminus": [
            [
             0,
             "#0d0887"
            ],
            [
             0.1111111111111111,
             "#46039f"
            ],
            [
             0.2222222222222222,
             "#7201a8"
            ],
            [
             0.3333333333333333,
             "#9c179e"
            ],
            [
             0.4444444444444444,
             "#bd3786"
            ],
            [
             0.5555555555555556,
             "#d8576b"
            ],
            [
             0.6666666666666666,
             "#ed7953"
            ],
            [
             0.7777777777777778,
             "#fb9f3a"
            ],
            [
             0.8888888888888888,
             "#fdca26"
            ],
            [
             1,
             "#f0f921"
            ]
           ]
          },
          "colorway": [
           "#636efa",
           "#EF553B",
           "#00cc96",
           "#ab63fa",
           "#FFA15A",
           "#19d3f3",
           "#FF6692",
           "#B6E880",
           "#FF97FF",
           "#FECB52"
          ],
          "font": {
           "color": "#2a3f5f"
          },
          "geo": {
           "bgcolor": "white",
           "lakecolor": "white",
           "landcolor": "#E5ECF6",
           "showlakes": true,
           "showland": true,
           "subunitcolor": "white"
          },
          "hoverlabel": {
           "align": "left"
          },
          "hovermode": "closest",
          "mapbox": {
           "style": "light"
          },
          "paper_bgcolor": "white",
          "plot_bgcolor": "#E5ECF6",
          "polar": {
           "angularaxis": {
            "gridcolor": "white",
            "linecolor": "white",
            "ticks": ""
           },
           "bgcolor": "#E5ECF6",
           "radialaxis": {
            "gridcolor": "white",
            "linecolor": "white",
            "ticks": ""
           }
          },
          "scene": {
           "xaxis": {
            "backgroundcolor": "#E5ECF6",
            "gridcolor": "white",
            "gridwidth": 2,
            "linecolor": "white",
            "showbackground": true,
            "ticks": "",
            "zerolinecolor": "white"
           },
           "yaxis": {
            "backgroundcolor": "#E5ECF6",
            "gridcolor": "white",
            "gridwidth": 2,
            "linecolor": "white",
            "showbackground": true,
            "ticks": "",
            "zerolinecolor": "white"
           },
           "zaxis": {
            "backgroundcolor": "#E5ECF6",
            "gridcolor": "white",
            "gridwidth": 2,
            "linecolor": "white",
            "showbackground": true,
            "ticks": "",
            "zerolinecolor": "white"
           }
          },
          "shapedefaults": {
           "line": {
            "color": "#2a3f5f"
           }
          },
          "ternary": {
           "aaxis": {
            "gridcolor": "white",
            "linecolor": "white",
            "ticks": ""
           },
           "baxis": {
            "gridcolor": "white",
            "linecolor": "white",
            "ticks": ""
           },
           "bgcolor": "#E5ECF6",
           "caxis": {
            "gridcolor": "white",
            "linecolor": "white",
            "ticks": ""
           }
          },
          "title": {
           "x": 0.05
          },
          "xaxis": {
           "automargin": true,
           "gridcolor": "white",
           "linecolor": "white",
           "ticks": "",
           "title": {
            "standoff": 15
           },
           "zerolinecolor": "white",
           "zerolinewidth": 2
          },
          "yaxis": {
           "automargin": true,
           "gridcolor": "white",
           "linecolor": "white",
           "ticks": "",
           "title": {
            "standoff": 15
           },
           "zerolinecolor": "white",
           "zerolinewidth": 2
          }
         }
        }
       }
      },
      "text/html": [
       "<div>\n",
       "        \n",
       "        \n",
       "            <div id=\"447778cb-e4e2-469e-9418-c8c057beb804\" class=\"plotly-graph-div\" style=\"height:525px; width:100%;\"></div>\n",
       "            <script type=\"text/javascript\">\n",
       "                require([\"plotly\"], function(Plotly) {\n",
       "                    window.PLOTLYENV=window.PLOTLYENV || {};\n",
       "                    \n",
       "                if (document.getElementById(\"447778cb-e4e2-469e-9418-c8c057beb804\")) {\n",
       "                    Plotly.newPlot(\n",
       "                        '447778cb-e4e2-469e-9418-c8c057beb804',\n",
       "                        [{\"align\": \"center\", \"delta\": {\"increasing\": {\"color\": \"#0000FF\"}, \"position\": \"top\", \"reference\": null, \"relative\": false, \"valueformat\": \".0f\"}, \"domain\": {\"column\": 0, \"row\": 0}, \"mode\": \"number+delta\", \"title\": {\"align\": \"center\", \"text\": \"<span style='font-family:Trebuchet MS;font-size:30px;color:#0000FF'><b>Confirmed</b></span>\"}, \"type\": \"indicator\", \"value\": 74860}, {\"align\": \"center\", \"delta\": {\"increasing\": {\"color\": \"#7CFC00\"}, \"position\": \"top\", \"reference\": 32329, \"relative\": false, \"valueformat\": \".0f\"}, \"domain\": {\"column\": 0, \"row\": 1}, \"mode\": \"number+delta\", \"title\": {\"align\": \"center\", \"text\": \"<span style=';font-family:Trebuchet MS;font-size:30px;color:#7CFC00'><b>Recovered</b></span>\"}, \"type\": \"indicator\", \"value\": 32329}, {\"align\": \"center\", \"delta\": {\"increasing\": {\"color\": \"#ff33cc\"}, \"position\": \"top\", \"reference\": null, \"relative\": false, \"valueformat\": \".0f\"}, \"domain\": {\"column\": 1, \"row\": 0}, \"mode\": \"number+delta\", \"title\": {\"align\": \"center\", \"text\": \"<span style=';font-family:Trebuchet MS;font-size:30px;color:#ff33cc'><b>Active</b></span>\"}, \"type\": \"indicator\", \"value\": 39944}, {\"align\": \"center\", \"delta\": {\"increasing\": {\"color\": \"#FF0000\"}, \"position\": \"top\", \"reference\": 2587, \"relative\": false, \"valueformat\": \".0f\"}, \"domain\": {\"column\": 1, \"row\": 1}, \"mode\": \"number+delta\", \"title\": {\"align\": \"center\", \"text\": \"<span style=';font-family:Trebuchet MS;font-size:30px;color:#FF0000'><b>Death</b></span>\"}, \"type\": \"indicator\", \"value\": 2587}],\n",
       "                        {\"grid\": {\"columns\": 2, \"pattern\": \"coupled\", \"rows\": 2}, \"template\": {\"data\": {\"bar\": [{\"error_x\": {\"color\": \"#2a3f5f\"}, \"error_y\": {\"color\": \"#2a3f5f\"}, \"marker\": {\"line\": {\"color\": \"#E5ECF6\", \"width\": 0.5}}, \"type\": \"bar\"}], \"barpolar\": [{\"marker\": {\"line\": {\"color\": \"#E5ECF6\", \"width\": 0.5}}, \"type\": \"barpolar\"}], \"carpet\": [{\"aaxis\": {\"endlinecolor\": \"#2a3f5f\", \"gridcolor\": \"white\", \"linecolor\": \"white\", \"minorgridcolor\": \"white\", \"startlinecolor\": \"#2a3f5f\"}, \"baxis\": {\"endlinecolor\": \"#2a3f5f\", \"gridcolor\": \"white\", \"linecolor\": \"white\", \"minorgridcolor\": \"white\", \"startlinecolor\": \"#2a3f5f\"}, \"type\": \"carpet\"}], \"choropleth\": [{\"colorbar\": {\"outlinewidth\": 0, \"ticks\": \"\"}, \"type\": \"choropleth\"}], \"contour\": [{\"colorbar\": {\"outlinewidth\": 0, \"ticks\": \"\"}, \"colorscale\": [[0.0, \"#0d0887\"], [0.1111111111111111, \"#46039f\"], [0.2222222222222222, \"#7201a8\"], [0.3333333333333333, \"#9c179e\"], [0.4444444444444444, \"#bd3786\"], [0.5555555555555556, \"#d8576b\"], [0.6666666666666666, \"#ed7953\"], [0.7777777777777778, \"#fb9f3a\"], [0.8888888888888888, \"#fdca26\"], [1.0, \"#f0f921\"]], \"type\": \"contour\"}], \"contourcarpet\": [{\"colorbar\": {\"outlinewidth\": 0, \"ticks\": \"\"}, \"type\": \"contourcarpet\"}], \"heatmap\": [{\"colorbar\": {\"outlinewidth\": 0, \"ticks\": \"\"}, \"colorscale\": [[0.0, \"#0d0887\"], [0.1111111111111111, \"#46039f\"], [0.2222222222222222, \"#7201a8\"], [0.3333333333333333, \"#9c179e\"], [0.4444444444444444, \"#bd3786\"], [0.5555555555555556, \"#d8576b\"], [0.6666666666666666, \"#ed7953\"], [0.7777777777777778, \"#fb9f3a\"], [0.8888888888888888, \"#fdca26\"], [1.0, \"#f0f921\"]], \"type\": \"heatmap\"}], \"heatmapgl\": [{\"colorbar\": {\"outlinewidth\": 0, \"ticks\": \"\"}, \"colorscale\": [[0.0, \"#0d0887\"], [0.1111111111111111, \"#46039f\"], [0.2222222222222222, \"#7201a8\"], [0.3333333333333333, \"#9c179e\"], [0.4444444444444444, \"#bd3786\"], [0.5555555555555556, \"#d8576b\"], [0.6666666666666666, \"#ed7953\"], [0.7777777777777778, \"#fb9f3a\"], [0.8888888888888888, \"#fdca26\"], [1.0, \"#f0f921\"]], \"type\": \"heatmapgl\"}], \"histogram\": [{\"marker\": {\"colorbar\": {\"outlinewidth\": 0, \"ticks\": \"\"}}, \"type\": \"histogram\"}], \"histogram2d\": [{\"colorbar\": {\"outlinewidth\": 0, \"ticks\": \"\"}, \"colorscale\": [[0.0, \"#0d0887\"], [0.1111111111111111, \"#46039f\"], [0.2222222222222222, \"#7201a8\"], [0.3333333333333333, \"#9c179e\"], [0.4444444444444444, \"#bd3786\"], [0.5555555555555556, \"#d8576b\"], [0.6666666666666666, \"#ed7953\"], [0.7777777777777778, \"#fb9f3a\"], [0.8888888888888888, \"#fdca26\"], [1.0, \"#f0f921\"]], \"type\": \"histogram2d\"}], \"histogram2dcontour\": [{\"colorbar\": {\"outlinewidth\": 0, \"ticks\": \"\"}, \"colorscale\": [[0.0, \"#0d0887\"], [0.1111111111111111, \"#46039f\"], [0.2222222222222222, \"#7201a8\"], [0.3333333333333333, \"#9c179e\"], [0.4444444444444444, \"#bd3786\"], [0.5555555555555556, \"#d8576b\"], [0.6666666666666666, \"#ed7953\"], [0.7777777777777778, \"#fb9f3a\"], [0.8888888888888888, \"#fdca26\"], [1.0, \"#f0f921\"]], \"type\": \"histogram2dcontour\"}], \"indicator\": [{\"delta\": {\"reference\": 90}, \"type\": \"indicator\"}], \"mesh3d\": [{\"colorbar\": {\"outlinewidth\": 0, \"ticks\": \"\"}, \"type\": \"mesh3d\"}], \"parcoords\": [{\"line\": {\"colorbar\": {\"outlinewidth\": 0, \"ticks\": \"\"}}, \"type\": \"parcoords\"}], \"pie\": [{\"automargin\": true, \"type\": \"pie\"}], \"scatter\": [{\"marker\": {\"colorbar\": {\"outlinewidth\": 0, \"ticks\": \"\"}}, \"type\": \"scatter\"}], \"scatter3d\": [{\"line\": {\"colorbar\": {\"outlinewidth\": 0, \"ticks\": \"\"}}, \"marker\": {\"colorbar\": {\"outlinewidth\": 0, \"ticks\": \"\"}}, \"type\": \"scatter3d\"}], \"scattercarpet\": [{\"marker\": {\"colorbar\": {\"outlinewidth\": 0, \"ticks\": \"\"}}, \"type\": \"scattercarpet\"}], \"scattergeo\": [{\"marker\": {\"colorbar\": {\"outlinewidth\": 0, \"ticks\": \"\"}}, \"type\": \"scattergeo\"}], \"scattergl\": [{\"marker\": {\"colorbar\": {\"outlinewidth\": 0, \"ticks\": \"\"}}, \"type\": \"scattergl\"}], \"scattermapbox\": [{\"marker\": {\"colorbar\": {\"outlinewidth\": 0, \"ticks\": \"\"}}, \"type\": \"scattermapbox\"}], \"scatterpolar\": [{\"marker\": {\"colorbar\": {\"outlinewidth\": 0, \"ticks\": \"\"}}, \"type\": \"scatterpolar\"}], \"scatterpolargl\": [{\"marker\": {\"colorbar\": {\"outlinewidth\": 0, \"ticks\": \"\"}}, \"type\": \"scatterpolargl\"}], \"scatterternary\": [{\"marker\": {\"colorbar\": {\"outlinewidth\": 0, \"ticks\": \"\"}}, \"type\": \"scatterternary\"}], \"surface\": [{\"colorbar\": {\"outlinewidth\": 0, \"ticks\": \"\"}, \"colorscale\": [[0.0, \"#0d0887\"], [0.1111111111111111, \"#46039f\"], [0.2222222222222222, \"#7201a8\"], [0.3333333333333333, \"#9c179e\"], [0.4444444444444444, \"#bd3786\"], [0.5555555555555556, \"#d8576b\"], [0.6666666666666666, \"#ed7953\"], [0.7777777777777778, \"#fb9f3a\"], [0.8888888888888888, \"#fdca26\"], [1.0, \"#f0f921\"]], \"type\": \"surface\"}], \"table\": [{\"cells\": {\"fill\": {\"color\": \"#EBF0F8\"}, \"line\": {\"color\": \"white\"}}, \"header\": {\"fill\": {\"color\": \"#C8D4E3\"}, \"line\": {\"color\": \"white\"}}, \"type\": \"table\"}]}, \"layout\": {\"annotationdefaults\": {\"arrowcolor\": \"#2a3f5f\", \"arrowhead\": 0, \"arrowwidth\": 1}, \"coloraxis\": {\"colorbar\": {\"outlinewidth\": 0, \"ticks\": \"\"}}, \"colorscale\": {\"diverging\": [[0, \"#8e0152\"], [0.1, \"#c51b7d\"], [0.2, \"#de77ae\"], [0.3, \"#f1b6da\"], [0.4, \"#fde0ef\"], [0.5, \"#f7f7f7\"], [0.6, \"#e6f5d0\"], [0.7, \"#b8e186\"], [0.8, \"#7fbc41\"], [0.9, \"#4d9221\"], [1, \"#276419\"]], \"sequential\": [[0.0, \"#0d0887\"], [0.1111111111111111, \"#46039f\"], [0.2222222222222222, \"#7201a8\"], [0.3333333333333333, \"#9c179e\"], [0.4444444444444444, \"#bd3786\"], [0.5555555555555556, \"#d8576b\"], [0.6666666666666666, \"#ed7953\"], [0.7777777777777778, \"#fb9f3a\"], [0.8888888888888888, \"#fdca26\"], [1.0, \"#f0f921\"]], \"sequentialminus\": [[0.0, \"#0d0887\"], [0.1111111111111111, \"#46039f\"], [0.2222222222222222, \"#7201a8\"], [0.3333333333333333, \"#9c179e\"], [0.4444444444444444, \"#bd3786\"], [0.5555555555555556, \"#d8576b\"], [0.6666666666666666, \"#ed7953\"], [0.7777777777777778, \"#fb9f3a\"], [0.8888888888888888, \"#fdca26\"], [1.0, \"#f0f921\"]]}, \"colorway\": [\"#636efa\", \"#EF553B\", \"#00cc96\", \"#ab63fa\", \"#FFA15A\", \"#19d3f3\", \"#FF6692\", \"#B6E880\", \"#FF97FF\", \"#FECB52\"], \"font\": {\"color\": \"#2a3f5f\"}, \"geo\": {\"bgcolor\": \"white\", \"lakecolor\": \"white\", \"landcolor\": \"#E5ECF6\", \"showlakes\": true, \"showland\": true, \"subunitcolor\": \"white\"}, \"hoverlabel\": {\"align\": \"left\"}, \"hovermode\": \"closest\", \"mapbox\": {\"style\": \"light\"}, \"paper_bgcolor\": \"white\", \"plot_bgcolor\": \"#E5ECF6\", \"polar\": {\"angularaxis\": {\"gridcolor\": \"white\", \"linecolor\": \"white\", \"ticks\": \"\"}, \"bgcolor\": \"#E5ECF6\", \"radialaxis\": {\"gridcolor\": \"white\", \"linecolor\": \"white\", \"ticks\": \"\"}}, \"scene\": {\"xaxis\": {\"backgroundcolor\": \"#E5ECF6\", \"gridcolor\": \"white\", \"gridwidth\": 2, \"linecolor\": \"white\", \"showbackground\": true, \"ticks\": \"\", \"zerolinecolor\": \"white\"}, \"yaxis\": {\"backgroundcolor\": \"#E5ECF6\", \"gridcolor\": \"white\", \"gridwidth\": 2, \"linecolor\": \"white\", \"showbackground\": true, \"ticks\": \"\", \"zerolinecolor\": \"white\"}, \"zaxis\": {\"backgroundcolor\": \"#E5ECF6\", \"gridcolor\": \"white\", \"gridwidth\": 2, \"linecolor\": \"white\", \"showbackground\": true, \"ticks\": \"\", \"zerolinecolor\": \"white\"}}, \"shapedefaults\": {\"line\": {\"color\": \"#2a3f5f\"}}, \"ternary\": {\"aaxis\": {\"gridcolor\": \"white\", \"linecolor\": \"white\", \"ticks\": \"\"}, \"baxis\": {\"gridcolor\": \"white\", \"linecolor\": \"white\", \"ticks\": \"\"}, \"bgcolor\": \"#E5ECF6\", \"caxis\": {\"gridcolor\": \"white\", \"linecolor\": \"white\", \"ticks\": \"\"}}, \"title\": {\"x\": 0.05}, \"xaxis\": {\"automargin\": true, \"gridcolor\": \"white\", \"linecolor\": \"white\", \"ticks\": \"\", \"title\": {\"standoff\": 15}, \"zerolinecolor\": \"white\", \"zerolinewidth\": 2}, \"yaxis\": {\"automargin\": true, \"gridcolor\": \"white\", \"linecolor\": \"white\", \"ticks\": \"\", \"title\": {\"standoff\": 15}, \"zerolinecolor\": \"white\", \"zerolinewidth\": 2}}}},\n",
       "                        {\"responsive\": true}\n",
       "                    ).then(function(){\n",
       "                            \n",
       "var gd = document.getElementById('447778cb-e4e2-469e-9418-c8c057beb804');\n",
       "var x = new MutationObserver(function (mutations, observer) {{\n",
       "        var display = window.getComputedStyle(gd).display;\n",
       "        if (!display || display === 'none') {{\n",
       "            console.log([gd, 'removed!']);\n",
       "            Plotly.purge(gd);\n",
       "            observer.disconnect();\n",
       "        }}\n",
       "}});\n",
       "\n",
       "// Listen for the removal of the full notebook cells\n",
       "var notebookContainer = gd.closest('#notebook-container');\n",
       "if (notebookContainer) {{\n",
       "    x.observe(notebookContainer, {childList: true});\n",
       "}}\n",
       "\n",
       "// Listen for the clearing of the current output cell\n",
       "var outputEl = gd.closest('.output');\n",
       "if (outputEl) {{\n",
       "    x.observe(outputEl, {childList: true});\n",
       "}}\n",
       "\n",
       "                        })\n",
       "                };\n",
       "                });\n",
       "            </script>\n",
       "        </div>"
      ]
     },
     "metadata": {},
     "output_type": "display_data"
    }
   ],
   "source": [
    "total_indicators = indicator_df.iloc[0,:]\n",
    "\n",
    "confirmed = total_indicators.iloc[1]\n",
    "recovered = total_indicators.iloc[2]\n",
    "deaths = total_indicators.iloc[3]\n",
    "active = total_indicators.iloc[4]\n",
    "\n",
    "delta_confirmed = total_indicators.iloc[5]\n",
    "delta_recovered = total_indicators.iloc[6]\n",
    "delta_deaths = total_indicators.iloc[7]\n",
    "\n",
    "delta_active = active-(+delta_confirmed+delta_recovered+delta_deaths)\n",
    "\n",
    "\n",
    "# largest = indicator_df['active'].nlargest(2)\n",
    "# first_largest  = largest.ix[0]\n",
    "# second_largest = largest.ix[1]\n",
    "# delta_active = first_largest-second_largest\n",
    "delta_active\n",
    "\n",
    "display(HTML('<br><br><div style = \"font-family:Trebuchet MS;font-size:30px;color:#999999;\">Daily Indicator</div><br>'))\n",
    "\n",
    "\n",
    "fig = go.Figure()\n",
    "\n",
    "fig.add_trace(\n",
    "        go.Indicator(\n",
    "            mode = \"number+delta\",\n",
    "            title = {\"text\": \"<span style='font-family:Trebuchet MS;font-size:30px;color:#0000FF'><b>Confirmed</b></span>\",'align':'center'},\n",
    "            value = confirmed,\n",
    "            align=\"center\",\n",
    "            delta = {'reference':confirmed-delta_confirmed,'increasing': {'color': \"#0000FF\"}, 'relative': False, 'position' : \"top\",'valueformat' :\".0f\"},\n",
    "            domain = {'row': 0, 'column': 0}\n",
    "            \n",
    "        )\n",
    ")\n",
    "\n",
    "\n",
    "fig.add_trace(go.Indicator(\n",
    "    \n",
    "    mode = \"number+delta\",\n",
    "    title = {\"text\": \"<span style=';font-family:Trebuchet MS;font-size:30px;color:#7CFC00'><b>Recovered</b></span>\",'align':'center'},\n",
    "    value = recovered,\n",
    "    align=\"center\",\n",
    "    delta = {'reference':recovered-delta_recovered,'increasing': {'color': \"#7CFC00\"}, 'relative': False,'position' : \"top\",'valueformat' :\".0f\"},\n",
    "    domain = {'row': 1, 'column': 0},\n",
    "\n",
    "))\n",
    "\n",
    "\n",
    "\n",
    "fig.add_trace(go.Indicator(\n",
    "    mode = \"number+delta\",\n",
    "    title = {\"text\": \"<span style=';font-family:Trebuchet MS;font-size:30px;color:#ff33cc'><b>Active</b></span>\",'align':'center'},\n",
    "    value = active,\n",
    "    align=\"center\",\n",
    "    delta = {'reference': delta_active,'increasing': {'color': \"#ff33cc\"}, 'relative': False,'position' : \"top\",'valueformat' :\".0f\"},\n",
    "    domain = {'row': 0, 'column': 1}\n",
    "))\n",
    "  \n",
    "\n",
    "\n",
    "fig.add_trace(go.Indicator(\n",
    "    mode = \"number+delta\",\n",
    "    title = {\"text\": \"<span style=';font-family:Trebuchet MS;font-size:30px;color:#FF0000'><b>Death</b></span>\",'align':'center'},\n",
    "    value = deaths,\n",
    "    align=\"center\",\n",
    "    delta = {'reference': deaths-delta_deaths, 'increasing': {'color': \"#FF0000\"}, 'relative': False,'position' : \"top\",'valueformat' :\".0f\"},\n",
    "    domain = {'row': 1, 'column': 1}\n",
    "    \n",
    "))\n",
    "    \n",
    "\n",
    "fig.update_layout(\n",
    "    grid = {'rows': 2, 'columns': 2, 'pattern': \"coupled\"},\n",
    "    template = {'data' : {'indicator': [{\n",
    "        'delta' : {'reference': 90}}]\n",
    "                         }})\n",
    "\n",
    "\n"
   ]
  },
  {
   "cell_type": "code",
   "execution_count": 54,
   "metadata": {},
   "outputs": [
    {
     "data": {
      "application/vnd.jupyter.widget-view+json": {
       "model_id": "8864739fdc3143f0875806c7409922a0",
       "version_major": 2,
       "version_minor": 0
      },
      "text/plain": [
       "interactive(children=(Text(value='10', description='Number'), Output()), _dom_classes=('widget-interact',))"
      ]
     },
     "metadata": {},
     "output_type": "display_data"
    }
   ],
   "source": [
    "district_table_df = pd.DataFrame((district_datewise_df.groupby( [ \"state\",\"district\"] ).sum()).reset_index())\n",
    "#district_table_df\n",
    "\n",
    "\n",
    "# Set CSS properties for th elements in dataframe\n",
    "th_props = [\n",
    "  ('font-size', '20px'),\n",
    "  ('text-align', 'center'),\n",
    "  ('font-weight', 'bold'),\n",
    "  ('color', '#999999'),\n",
    "  ('background-color', '#f7f7f9')\n",
    "  ]\n",
    "\n",
    "# Set table styles\n",
    "styles = [\n",
    "  dict(selector=\"th\", props=th_props)\n",
    "  ]\n",
    "\n",
    "\n",
    "# Fetching the number of desired rows using interaction.\n",
    "\n",
    "fig = go.FigureWidget( layout=go.Layout() )\n",
    "\n",
    "def highlight_col(x):\n",
    "    \n",
    "                    state   = 'background-color: #ffffcc'\n",
    "                    district = 'background-color: #99ebff'\n",
    "                    count     = 'background-color: #ffc2b3'\n",
    "                    \n",
    "                    \n",
    "\n",
    "                    df1 = pd.DataFrame('', index=x.index, columns=x.columns)\n",
    "                    df1.iloc[:, 0] = state\n",
    "                    df1.iloc[:, 1] = district\n",
    "                    df1.iloc[:, 2] = count\n",
    "                   \n",
    "                   \n",
    "\n",
    "\n",
    "                    return df1\n",
    "\n",
    "def show_latest_cases(Number):\n",
    "    n = int(Number)\n",
    "   \n",
    "    pd.options.display.float_format = '{:.2f}'.format\n",
    "    s = district_table_df.sort_values('count', ascending= False).head(n).style.apply(highlight_col, axis=None) \n",
    "    s = s.hide_index()\n",
    "    s.set_precision(20)\n",
    "    s.set_table_styles(styles)\n",
    "    s.set_properties(**{'border-style': 'solid',\n",
    "                        'border-color': '#e0e0eb',\n",
    "                        'border-width':'0.015px',\n",
    "                        'color': 'black',\n",
    "                        'font-family':'Trebuchet MS',\n",
    "                        'font-weight':'bold',\n",
    "                        'text-align':'center',\n",
    "                        'width':'200px'\n",
    "                           })\n",
    "    #s = s.set_caption('<h3>Top Worst Hit States</h3><br>')\n",
    "    pd.options.display.float_format = '{:.2f}'.format\n",
    "    pd.option_context('display.colheader_justify','center')\n",
    "    \n",
    "    return s;\n",
    "\n",
    "#display(HTML('<br><br><div style = \"font-family:Trebuchet MS;font-size:24px;color:#999999;\">Enter the Number to View Daily Record</div><br>'))\n",
    "interact(show_latest_cases, Number='10');\n"
   ]
  },
  {
   "cell_type": "code",
   "execution_count": 55,
   "metadata": {},
   "outputs": [
    {
     "data": {
      "application/vnd.jupyter.widget-view+json": {
       "model_id": "b98c2f946ba44a7480ba7ae62726e6ab",
       "version_major": 2,
       "version_minor": 0
      },
      "text/plain": [
       "interactive(children=(Text(value='10', description='Number'), Output()), _dom_classes=('widget-interact',))"
      ]
     },
     "metadata": {},
     "output_type": "display_data"
    }
   ],
   "source": [
    "# Set CSS properties for th elements in dataframe\n",
    "th_props = [\n",
    "  ('font-size', '20px'),\n",
    "  ('text-align', 'center'),\n",
    "  ('font-weight', 'bold'),\n",
    "  ('color', '#999999'),\n",
    "  ('background-color', '#f7f7f9')\n",
    "  ]\n",
    "\n",
    "# Set table styles\n",
    "styles = [\n",
    "  dict(selector=\"th\", props=th_props)\n",
    "  ]\n",
    "\n",
    "\n",
    "\n",
    "\n",
    "\n",
    "\n",
    "# Fetching the number of desired rows using interaction.\n",
    "\n",
    "fig = go.FigureWidget( layout=go.Layout() )\n",
    "\n",
    "def highlight_col(x):\n",
    "    \n",
    "                    state   = 'background-color: #ffffcc'\n",
    "                    confirmed = 'background-color: #99ebff'\n",
    "                    death     = 'background-color: #ffc2b3'\n",
    "                    recovered = 'background-color: #99ff99'\n",
    "                    active    = 'background-color: #ffb3ff'\n",
    "                    \n",
    "\n",
    "                    df1 = pd.DataFrame('', index=x.index, columns=x.columns)\n",
    "                    df1.iloc[:, 0] = state\n",
    "                    df1.iloc[:, 1] = confirmed\n",
    "                    df1.iloc[:, 2] = death\n",
    "                    df1.iloc[:, 3] = recovered\n",
    "                    df1.iloc[:, 4] = active\n",
    "                   \n",
    "\n",
    "\n",
    "                    return df1\n",
    "\n",
    "def show_latest_cases(Number):\n",
    "    n = int(Number)\n",
    "    if 'delta_confirmed' in statewise_df:\n",
    "        statewise_df.drop(['last_update','state_code','delta_confirmed','delta_recovered','delta_recovered','state_notes','delta_deaths'], axis =1, inplace =True)\n",
    "\n",
    "    pd.options.display.float_format = '{:.2f}'.format\n",
    "    s = statewise_df.sort_values('confirmed', ascending= False).head(n).style.apply(highlight_col, axis=None) \n",
    "    s = s.hide_index()\n",
    "    s.set_precision(20)\n",
    "    s.set_table_styles(styles)\n",
    "    s.set_properties(**{'border-style': 'solid',\n",
    "                        'border-color': '#e0e0eb',\n",
    "                        'border-width':'0.015px',\n",
    "                        'color': 'black',\n",
    "                        'font-family':'Trebuchet MS',\n",
    "                        'font-weight':'bold',\n",
    "                        'text-align':'center',\n",
    "                        'width':'119.5px'\n",
    "                           })\n",
    "    #s = s.set_caption('<h3>Top Worst Hit State</h3><br>')\n",
    "    pd.options.display.float_format = '{:.2f}'.format\n",
    "    pd.option_context('display.colheader_justify','center')\n",
    "    return s;\n",
    "\n",
    "#display(HTML('<br><br><div style = \"font-family:Trebuchet MS;font-size:24px;color:#999999;\">Enter the Number to View India Top Worst Hit States</div><br>'))\n",
    "interact(show_latest_cases, Number='10');\n"
   ]
  },
  {
   "cell_type": "code",
   "execution_count": 56,
   "metadata": {},
   "outputs": [],
   "source": [
    "sorted_statewise_df = statewise_df.sort_values('confirmed',ascending=False)"
   ]
  },
  {
   "cell_type": "code",
   "execution_count": 57,
   "metadata": {},
   "outputs": [
    {
     "data": {
      "application/vnd.jupyter.widget-view+json": {
       "model_id": "7f7b441dc22d48b58b3f856b192b6962",
       "version_major": 2,
       "version_minor": 0
      },
      "text/plain": [
       "interactive(children=(IntSlider(value=10, description='Scroll', max=30, min=-10), Output()), _dom_classes=('wi…"
      ]
     },
     "metadata": {},
     "output_type": "display_data"
    }
   ],
   "source": [
    "ipywLayout = widgets.Layout(border='solid 2px green')\n",
    "\n",
    "def bubble_chart(Scroll):\n",
    "\n",
    "        figBubble = px.scatter(\n",
    "                                sorted_statewise_df.head(Scroll),\n",
    "                                x = 'state', \n",
    "                                y ='confirmed',\n",
    "                                size= 'confirmed',\n",
    "                                color = 'state', \n",
    "                                hover_name='state' ,\n",
    "                                size_max=60\n",
    "                              )\n",
    "        figBubble.update_layout(\n",
    "\n",
    "                                title=\"Top Worst Hit States in India\",\n",
    "                                yaxis_title=\"Confirmed Recoverd & Death Cases\",\n",
    "                                xaxis_title=\"States\",\n",
    "                                font=dict(family=\"Trebuchet MS\",size=16,color=\"#778899\"),\n",
    "                                xaxis_showgrid=True,\n",
    "                                yaxis_showgrid=True,\n",
    "                                #paper_bgcolor='rgba(0,0,0,0)',\n",
    "                                plot_bgcolor='rgba(0,0,0,0)',\n",
    "                                #margin=dict(l=100, r=20, t=0, b=20)\n",
    "\n",
    "                            )\n",
    "\n",
    "        #figBubble.update_layout(autosize=False,width=700,height=600),\n",
    "        #figBubble.update_xaxes(showgrid=True, gridwidth=1, gridcolor='#DCDCDC')\n",
    "        #figBubble.update_yaxes(showgrid=True, gridwidth=1, gridcolor='#DCDCDC')\n",
    "        figBubble.update_xaxes(zeroline=True, zerolinewidth=2, zerolinecolor='#DCDCDC')\n",
    "        figBubble.update_yaxes(zeroline=True, zerolinewidth=2, zerolinecolor='#DCDCDC')\n",
    "\n",
    "        figBubble.show();\n",
    "\n",
    "#display(HTML('<br><br><div style = \"font-family:Trebuchet MS;font-size:30px;color:#999999;\">Scroll to Compare State Top Worst Hit States</div><br>'))\n",
    "\n",
    "interact(bubble_chart, Scroll=10);"
   ]
  },
  {
   "cell_type": "code",
   "execution_count": 58,
   "metadata": {},
   "outputs": [
    {
     "data": {
      "text/html": [
       "<br><br><br><br>"
      ],
      "text/plain": [
       "<IPython.core.display.HTML object>"
      ]
     },
     "metadata": {},
     "output_type": "display_data"
    },
    {
     "data": {
      "application/vnd.jupyter.widget-view+json": {
       "model_id": "0c0fa165c3a341d8bf650c4388555f25",
       "version_major": 2,
       "version_minor": 0
      },
      "text/plain": [
       "interactive(children=(Dropdown(description='<div style = \"height:100px;width:70px;border-style:#;padding-botto…"
      ]
     },
     "metadata": {},
     "output_type": "display_data"
    }
   ],
   "source": [
    "\n",
    "menu = np.array(statewise_df['state'].values.tolist()) \n",
    "menu = np.unique(menu)\n",
    "\n",
    "StateBarWidget = widgets.Dropdown(options=menu,\n",
    "    value='Maharashtra',\n",
    "    description='<div style = \"height:100px;width:70px;border-style:#;padding-bottom:10px;font-family:Trebuchet MS;font-size:15px;font-style:bold;font-color:#999999;\"><b>States</b></div> :</br></br>',\n",
    ")\n",
    "\n",
    "display(HTML('<br><br><br><br>'))\n",
    "def StateBar(States):\n",
    "    state = statewise_df.loc[statewise_df['state'] == States]\n",
    "   \n",
    "    figBar = go.Figure(\n",
    "        data=[\n",
    "            go.Bar(\n",
    "                name=\"Confirmed\",\n",
    "                x= state['state'],\n",
    "                y= state['confirmed'],\n",
    "                marker=dict(color='#0000FF')\n",
    "               \n",
    "                \n",
    "            ),\n",
    "            go.Bar(\n",
    "                name=\"Deaths\",\n",
    "                x=state['state'],\n",
    "                y=state['deaths'],\n",
    "                marker=dict(color='#FF0000')\n",
    "                \n",
    "            ),\n",
    "            go.Bar(\n",
    "                name=\"Recovered\",\n",
    "                x=state['state'],\n",
    "                y=state['recovered'],\n",
    "                marker=dict(color='#7CFC00')\n",
    "                \n",
    "            ),\n",
    "        \n",
    "        ],\n",
    "        layout=go.Layout(\n",
    "            title=\"Confirmed Recoverd And Death Cases\",\n",
    "            yaxis_title=\"Count of Confirmed Recoverd & Death Cases\",\n",
    "            xaxis_title=\"State\",\n",
    "            font=dict(family=\"Trebuchet MS\",size=16,color=\"#778899\"),\n",
    "            xaxis_showgrid=True,\n",
    "            yaxis_showgrid=True,\n",
    "            width=700,\n",
    "            height=600,\n",
    "            paper_bgcolor='rgba(0,0,0,0)',\n",
    "            plot_bgcolor='rgba(0,0,0,0)'\n",
    "        )\n",
    "        \n",
    "    )\n",
    "    #figBar.update_xaxes(showgrid=True, gridwidth=1, gridcolor='#DCDCDC')\n",
    "    #figBar.update_yaxes(showgrid=True, gridwidth=1, gridcolor='#DCDCDC')\n",
    "    figBar.update_xaxes(zeroline=True, zerolinewidth=2, zerolinecolor='#DCDCDC')\n",
    "    figBar.update_yaxes(zeroline=True, zerolinewidth=2, zerolinecolor='#DCDCDC'),\n",
    "    fig.update_yaxes(automargin=True)\n",
    "    \n",
    "   \n",
    "    figBar.show();\n",
    "\n",
    "\n",
    "#display(HTML('<br><br><div style = \"font-family:Trebuchet MS;font-size:24px;color:#999999;\">Select the State from Drop Down</div><br>'))    \n",
    "\n",
    "StateBarWidget.layout.height = '40px' \n",
    "interact(StateBar,States = StateBarWidget);\n",
    "\n",
    "#display(StateBarWidget)\n"
   ]
  },
  {
   "cell_type": "code",
   "execution_count": 59,
   "metadata": {},
   "outputs": [
    {
     "data": {
      "application/vnd.jupyter.widget-view+json": {
       "model_id": "fe410ba2b3e540ddbe5ad2bde1bf1c90",
       "version_major": 2,
       "version_minor": 0
      },
      "text/plain": [
       "interactive(children=(Dropdown(description='<div style = \"height:100px;width:70px;border-style:#;padding-botto…"
      ]
     },
     "metadata": {},
     "output_type": "display_data"
    }
   ],
   "source": [
    "    \n",
    "menu = np.array(district_datewise_df['state'].values.tolist()) \n",
    "menu = np.unique(menu)\n",
    "\n",
    "\n",
    "MixedCasesDropdown = widgets.Dropdown(options=menu,\n",
    "    value='Maharashtra',\n",
    "    description='<div style = \"height:100px;width:70px;border-style:#;padding-bottom:10px;font-family:Trebuchet MS;font-size:15px;font-style:bold;font-color:#999999;\"><b>States</b></div> :</br></br>',\n",
    "    disabled=False\n",
    ")\n",
    "\n",
    "\n",
    "def mixedCases(state):\n",
    "    \n",
    "    state_df = district_datewise_df.loc[district_datewise_df['state'] == state]\n",
    "    \n",
    "\n",
    "    \n",
    "    date_df = pd.DataFrame((state_df.groupby( [ \"date\", \"current status\"] ).sum()).reset_index())\n",
    "    date_df['date'] = pd.to_datetime(date_df['date'], format='%d/%m/%Y')\n",
    "    date_df = date_df.sort_values(by=['date'], ascending=True)\n",
    "    \n",
    "    \n",
    "    max_range = date_df['count'].cumsum()\n",
    "    max_range = max(max_range)\n",
    "    #print(max_range)\n",
    "    \n",
    "\n",
    "    confirmed_df = date_df.loc[date_df['current status'] == 'Hospitalized']\n",
    "    confirmed_date = confirmed_df['date']\n",
    "    confirmed_count = confirmed_df['count'].cumsum()\n",
    "    \n",
    "    recovered_df = date_df.loc[date_df['current status'] == 'Recovered']\n",
    "    recovered_count = recovered_df['count'].cumsum()\n",
    "    recovered_date = recovered_df['date']\n",
    "\n",
    "    \n",
    "    deceased_df = date_df.loc[date_df['current status'] == 'Deceased']\n",
    "    deceased_count = deceased_df['count'].cumsum()\n",
    "    deceased_date = deceased_df['date']\n",
    "\n",
    "\n",
    "    \n",
    "    figLine = go.Figure(\n",
    "        data=[\n",
    "            go.Line(\n",
    "                name='Confirmed',\n",
    "                x= confirmed_date,\n",
    "                y= confirmed_count,\n",
    "                marker=dict(color='#0000FF')\n",
    "            ),\n",
    "            \n",
    "             go.Bar(\n",
    "                name='Recovered',\n",
    "                x= recovered_date,\n",
    "                y= recovered_count,\n",
    "                marker=dict(color='#7CFC00')\n",
    "            ),\n",
    "            \n",
    "            go.Bar(\n",
    "                name=\"Deaths\",\n",
    "                x= deceased_date,\n",
    "                y= deceased_count,\n",
    "                marker=dict(color='#FF0000')\n",
    "            ),\n",
    "            \n",
    "    \n",
    "        ],\n",
    "    \n",
    "    \n",
    "        layout=go.Layout(\n",
    "            showlegend=True,\n",
    "            title=state+\" Per Day Confirmed Recoverd and Death Cases\",\n",
    "            yaxis_title=\"Confirmed Recoverd and Death Cases\",\n",
    "            xaxis_title=\"Dates\",\n",
    "            font=dict(family=\"Trebuchet MS\",size=16,color=\"#778899\"),\n",
    "            xaxis_showgrid=True,\n",
    "            yaxis_showgrid=True,\n",
    "            #paper_bgcolor='rgba(0,0,0,0)',\n",
    "            plot_bgcolor='rgba(0,0,0,0)'\n",
    "        )\n",
    "    )\n",
    "    \n",
    "  \n",
    "    figLine.update_xaxes(rangeslider_visible=True)\n",
    "    \n",
    "    figLine.update_yaxes(range=[0, max_range])\n",
    "    figLine.update_layout(autosize=False,width=975,height=680),\n",
    "    \n",
    "    \n",
    "    #figLine.update_xaxes(showgrid=True, gridwidth=1, gridcolor='#DCDCDC')\n",
    "    #figLine.update_yaxes(showgrid=True, gridwidth=1, gridcolor='#DCDCDC')\n",
    "    figLine.update_xaxes(zeroline=True, zerolinewidth=2, zerolinecolor='#DCDCDC')\n",
    "    figLine.update_yaxes(zeroline=True, zerolinewidth=2, zerolinecolor='#DCDCDC')\n",
    "    \n",
    "    display(HTML('<br><br><br><br>'))\n",
    "    figLine.show();\n",
    "\n",
    "\n",
    "\n",
    "#display(HTML('<br><br><div style = \"font-family:Trebuchet MS;font-size:24px;color:#999999;\">Select the State from Drop Down</div><br>'))    \n",
    "MixedCasesDropdown.layout.height = '40px' \n",
    "widgets.interact(mixedCases,state = MixedCasesDropdown);"
   ]
  },
  {
   "cell_type": "code",
   "execution_count": 60,
   "metadata": {},
   "outputs": [
    {
     "data": {
      "application/vnd.jupyter.widget-view+json": {
       "model_id": "d7475944d49c4779859ecc98b9753fd4",
       "version_major": 2,
       "version_minor": 0
      },
      "text/plain": [
       "interactive(children=(Dropdown(description='<div style = \"height:100px;width:70px;border-style:#;padding-botto…"
      ]
     },
     "metadata": {},
     "output_type": "display_data"
    }
   ],
   "source": [
    "menu = np.array(district_datewise_df['state'].values.tolist()) \n",
    "menu = np.unique(menu)\n",
    "\n",
    "ConfirmedDropdown = widgets.Dropdown(options=menu,\n",
    "        value='Maharashtra',\n",
    "        description='<div style = \"height:100px;width:70px;border-style:#;padding-bottom:10px;font-family:Trebuchet MS;font-size:15px;font-style:bold;font-color:#999999;\"><b>States</b></div> :</br></br>',\n",
    "\n",
    "    )\n",
    "\n",
    "\n",
    "def ConfirmedDateWiseCases(state):\n",
    "    \n",
    "    state_df = district_datewise_df.loc[district_datewise_df['state'] == state]\n",
    "    \n",
    "\n",
    "    \n",
    "    date_df = pd.DataFrame((state_df.groupby( [ \"date\", \"current status\"] ).sum()).reset_index())\n",
    "    date_df['date'] = pd.to_datetime(date_df['date'], format='%d/%m/%Y')\n",
    "    date_df = date_df.sort_values(by=['date'], ascending=True)\n",
    "    \n",
    "    \n",
    "    max_range = date_df['count'].cumsum()\n",
    "    max_range = max(max_range)\n",
    "   \n",
    "\n",
    "    confirmed_df = date_df.loc[date_df['current status'] == 'Hospitalized']\n",
    "    confirmed_date = confirmed_df['date']\n",
    "    confirmed_count = confirmed_df['count'].cumsum()\n",
    "    \n",
    "    \n",
    "    \n",
    "    figLine = go.Figure(\n",
    "        data=[\n",
    "        \n",
    "            go.Line(\n",
    "                name=\"Confirmed\",\n",
    "                x= confirmed_date,\n",
    "                y= confirmed_count,\n",
    "                line={'color': '#0000FF'}\n",
    "\n",
    "            \n",
    "            ),\n",
    "\n",
    "        ],\n",
    "        layout=go.Layout(\n",
    "            showlegend=True,\n",
    "            title=state+\" Confirmed Cases\" ,\n",
    "            yaxis_title=\"Confirmed Cases\",\n",
    "            xaxis_title=\"Dates\",\n",
    "            font=dict(family=\"Trebuchet MS\",size=16,color=\"#778899\"),\n",
    "            xaxis_showgrid=True,\n",
    "            yaxis_showgrid=True,\n",
    "            #paper_bgcolor='rgba(0,0,0,0)',\n",
    "            plot_bgcolor='rgba(0,0,0,0)'\n",
    "        )\n",
    "    )\n",
    "    figLine.update_xaxes(rangeslider_visible=True)\n",
    "    figLine.update_yaxes(range=[0, max_range])\n",
    "    figLine.update_layout(autosize=False,width=975,height=680)\n",
    "    \n",
    "    \n",
    "    #figLine.update_xaxes(showgrid=True, gridwidth=1, gridcolor='#DCDCDC')\n",
    "    #fbbigLine.update_yaxes(showgrid=True, gridwidth=1, gridcolor='#DCDCDC')\n",
    "    figLine.update_xaxes(zeroline=True, zerolinewidth=2, zerolinecolor='#DCDCDC')\n",
    "    figLine.update_yaxes(zeroline=True, zerolinewidth=2, zerolinecolor='#DCDCDC')\n",
    "    \n",
    "    display(HTML('<br><br><br><br>'))\n",
    "    figLine.show();\n",
    "\n",
    "    \n",
    "\n",
    "#display(HTML('<br><br><div style = \"font-family:Trebuchet MS;font-size:24px;color:#999999;\">Select the State from Drop Down</div><br>'))    \n",
    "ConfirmedDropdown.layout.height = '40px' \n",
    "widgets.interact(ConfirmedDateWiseCases,state = ConfirmedDropdown);"
   ]
  },
  {
   "cell_type": "code",
   "execution_count": 61,
   "metadata": {},
   "outputs": [
    {
     "data": {
      "application/vnd.jupyter.widget-view+json": {
       "model_id": "45ec9f83bd2e4eae94225c1b107ea79a",
       "version_major": 2,
       "version_minor": 0
      },
      "text/plain": [
       "interactive(children=(Dropdown(description='<div style = \"height:100px;width:70px;border-style:#;padding-botto…"
      ]
     },
     "metadata": {},
     "output_type": "display_data"
    }
   ],
   "source": [
    "menu = np.array(district_datewise_df['state'].values.tolist()) \n",
    "menu = np.unique(menu)\n",
    "\n",
    "RecoveredDropdown = widgets.Dropdown(options=menu,\n",
    "    value='Maharashtra',\n",
    "    description='<div style = \"height:100px;width:70px;border-style:#;padding-bottom:10px;font-family:Trebuchet MS;font-size:15px;font-style:bold;font-color:#999999;\"><b>States</b></div> :</br></br>',\n",
    "    disabled=False\n",
    ")                                                                       \n",
    "\n",
    "def recoverdDateWise(state):\n",
    "    \n",
    "    \n",
    "    \n",
    "    state_df = district_datewise_df.loc[district_datewise_df['state'] == state]\n",
    "    \n",
    "\n",
    "    \n",
    "    date_df = pd.DataFrame((state_df.groupby( [ \"date\", \"current status\"] ).sum()).reset_index())\n",
    "    date_df['date'] = pd.to_datetime(date_df['date'], format='%d/%m/%Y')\n",
    "    date_df = date_df.sort_values(by=['date'], ascending=True)\n",
    "\n",
    "\n",
    "    recovered_df = date_df.loc[date_df['current status'] == 'Recovered']\n",
    "    recovered_count = recovered_df['count'].cumsum()\n",
    "    recovered_date = recovered_df['date']\n",
    "    max_range = max(recovered_count)\n",
    "\n",
    "    \n",
    "    figLine = go.Figure(\n",
    "        data=[\n",
    "            go.Scatter(\n",
    "                name=\"Recovered\",\n",
    "                x= recovered_date,\n",
    "                y= recovered_count,\n",
    "                line={'color': '#7CFC00'},\n",
    "                \n",
    "            ),\n",
    "    ],\n",
    "    layout=go.Layout(\n",
    "            showlegend=True,\n",
    "            title=state+\" Recoverd Cases\",\n",
    "            yaxis_title=\"Recovered Cases\",\n",
    "            xaxis_title=\"Dates\",\n",
    "            font=dict(family=\"Trebuchet MS\",size=16,color=\"#778899\"),\n",
    "            xaxis_showgrid=True,\n",
    "            yaxis_showgrid=True,\n",
    "            #paper_bgcolor='rgba(0,0,0,0)',\n",
    "            plot_bgcolor='rgba(0,0,0,0)'\n",
    "            \n",
    "        \n",
    "        )\n",
    "    \n",
    "    )\n",
    "    figLine.update_xaxes(rangeslider_visible=True),\n",
    "    figLine.update_yaxes(range=[0, max_range])\n",
    "    figLine.update_layout(autosize=False,width=975,height=680)\n",
    "    \n",
    "    \n",
    "    #figLine.update_xaxes(showgrid=True, gridwidth=1, gridcolor='#DCDCDC')\n",
    "    #figLine.update_yaxes(showgrid=True, gridwidth=1, gridcolor='#DCDCDC')\n",
    "    figLine.update_xaxes(zeroline=True, zerolinewidth=2, zerolinecolor='#DCDCDC')\n",
    "    figLine.update_yaxes(zeroline=True, zerolinewidth=2, zerolinecolor='#DCDCDC')\n",
    "    display(HTML('<br><br><br><br>'))\n",
    "    figLine.show();\n",
    "\n",
    "    \n",
    "    \n",
    "\n",
    "\n",
    "#display(HTML('<br><br><div style = \"font-family:Trebuchet MS;font-size:24px;color:#999999;\">Select the State from Drop Down</div><br>'))    \n",
    "RecoveredDropdown.layout.height = '40px' \n",
    "widgets.interact(recoverdDateWise,state = RecoveredDropdown);"
   ]
  },
  {
   "cell_type": "code",
   "execution_count": 62,
   "metadata": {},
   "outputs": [
    {
     "data": {
      "application/vnd.jupyter.widget-view+json": {
       "model_id": "6be47210a7e54b3d85b4f2f46ce94674",
       "version_major": 2,
       "version_minor": 0
      },
      "text/plain": [
       "interactive(children=(Dropdown(description='<div style = \"height:100px;width:70px;border-style:#;padding-botto…"
      ]
     },
     "metadata": {},
     "output_type": "display_data"
    }
   ],
   "source": [
    "\n",
    "menu = np.array(district_datewise_df['state'].values.tolist()) \n",
    "menu = np.unique(menu)\n",
    " \n",
    "\n",
    "DeathDropdown = widgets.Dropdown(options=menu,\n",
    "    value='Maharashtra',\n",
    "    description='<div style = \"height:100px;width:70px;border-style:#;padding-bottom:10px;font-family:Trebuchet MS;font-size:15px;font-style:bold;font-color:#999999;\"><b>States</b></div> :</br></br>',\n",
    "\n",
    ")\n",
    "\n",
    "\n",
    "def DeathDateWise(state):\n",
    "    \n",
    "    state_df = district_datewise_df.loc[district_datewise_df['state'] == state]\n",
    "    \n",
    "\n",
    "    \n",
    "    date_df = pd.DataFrame((state_df.groupby( [ \"date\", \"current status\"] ).sum()).reset_index())\n",
    "    date_df['date'] = pd.to_datetime(date_df['date'], format='%d/%m/%Y')\n",
    "    date_df = date_df.sort_values(by=['date'], ascending=True)\n",
    "    \n",
    "\n",
    "    deceased_df = date_df.loc[date_df['current status'] == 'Deceased']\n",
    "    deceased_count = deceased_df['count'].cumsum()\n",
    "    deceased_date = deceased_df['date']\n",
    "    max_range_death = max(deceased_count)\n",
    "    \n",
    "    figLine = go.Figure(\n",
    "        data=[\n",
    "        \n",
    "            go.Line(\n",
    "                name=\"Deaths\",\n",
    "                x= deceased_date,\n",
    "                y= deceased_count,\n",
    "                line={'color': '#FF0000'}\n",
    "\n",
    "            ),\n",
    "        \n",
    "        ],\n",
    "        layout=go.Layout(\n",
    "            showlegend=True,\n",
    "            title=state+\" Deaths Cases\",\n",
    "            yaxis_title=\"Deaths Cases\",\n",
    "            xaxis_title=\"Dates\",\n",
    "            font=dict(family=\"Trebuchet MS\",size=16,color=\"#778899\"),\n",
    "            xaxis_showgrid=True,\n",
    "            yaxis_showgrid=True,\n",
    "            #paper_bgcolor='rgba(0,0,0,0)',\n",
    "            plot_bgcolor='rgba(0,0,0,0)'\n",
    "        )\n",
    "    )\n",
    "    figLine.update_xaxes(rangeslider_visible=True)\n",
    "    figLine.update_yaxes(range=[0, max_range_death])\n",
    "    figLine.update_layout(autosize=False,width=975,height=680)\n",
    "    \n",
    "    \n",
    "    #figLine.update_xaxes(showgrid=True, gridwidth=1, gridcolor='#DCDCDC')\n",
    "    #figLine.update_yaxes(showgrid=True, gridwidth=1, gridcolor='#DCDCDC')\n",
    "    figLine.update_xaxes(zeroline=True, zerolinewidth=2, zerolinecolor='#DCDCDC')\n",
    "    figLine.update_yaxes(zeroline=True, zerolinewidth=2, zerolinecolor='#DCDCDC')\n",
    "    display(HTML('<br><br><br><br>'))\n",
    "    figLine.show();\n",
    "\n",
    "\n",
    "\n",
    "#display(HTML('<br><br><div style = \"font-family:Trebuchet MS;font-size:24px;color:#999999;\">Select the State from Drop Down</div><br>'))    \n",
    "DeathDropdown.layout.height = '40px' \n",
    "widgets.interact(DeathDateWise,state = DeathDropdown);"
   ]
  },
  {
   "cell_type": "code",
   "execution_count": 63,
   "metadata": {},
   "outputs": [
    {
     "data": {
      "text/html": [
       "<div style=\"width:100%;\"><div style=\"position:relative;width:100%;height:0;padding-bottom:60%;\"><iframe src=\"about:blank\" style=\"position:absolute;width:100%;height:100%;left:0;top:0;border:none !important;\" data-html=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 onload=\"this.contentDocument.open();this.contentDocument.write(atob(this.getAttribute('data-html')));this.contentDocument.close();\" allowfullscreen webkitallowfullscreen mozallowfullscreen></iframe></div></div>"
      ],
      "text/plain": [
       "<folium.folium.Map at 0x2370cdbeeb8>"
      ]
     },
     "execution_count": 63,
     "metadata": {},
     "output_type": "execute_result"
    }
   ],
   "source": [
    "#display(HTML('<br><br><div style = \"font-family:Trebuchet MS;font-size:24px;color:#999999;\">Hover Over Map</div><br>'))    \n",
    "\n",
    "\n",
    "northing = 20.5937\n",
    "easting = 78.9629\n",
    "india_map = folium.Map(location=[northing,easting], tiles=\"cartodbpositron\", zoom_start=4, max_zoom = 10, min_zoom = 2)\n",
    "            \n",
    "\n",
    "for i in range(0,len(lat_long_merged_df)):\n",
    "    \n",
    "    confirmed =  lat_long_merged_df.iloc[i,1]\n",
    "    confirmed =  str(confirmed)\n",
    "    deaths =     lat_long_merged_df.iloc[i,3]\n",
    "    deaths =      str(deaths)\n",
    "    \n",
    "    recovered =     lat_long_merged_df.iloc[i,2]\n",
    "    recovered =      str(recovered)\n",
    "    \n",
    "    active =     lat_long_merged_df.iloc[i,4]\n",
    "    active =      str(active)\n",
    "    \n",
    "    death_rate=  np.round(lat_long_merged_df.iloc[i,3]/(lat_long_merged_df.iloc[i,3]+1.00001)*100,2)\n",
    "    death_rate =      str(death_rate)\n",
    "    \n",
    "    \n",
    "    folium.Marker(\n",
    "        location=[ lat_long_merged_df.iloc[i]['lat'], lat_long_merged_df.iloc[i]['long'] ],\n",
    "        fill=True,\n",
    "        #radius=((np.log(lat_long_merged_df.iloc[i,2]+1.00001))+0.2)*50000,\n",
    "        color=' #ffb3d9',\n",
    "        fill_color='white',\n",
    "        tooltip = \"<div style='margin: 0; background-color: #cccccc; color: #000000;'>\"+\n",
    "                    \"<h4 style='text-align:center;font-weight: bold'>\"+lat_long_merged_df.iloc[i]['State'] + \"</h4>\"\n",
    "                    \"<hr style='margin:10px;color: #4d4d4d;'>\"+\n",
    "                    \"<ul style='color: #000000;font-weight: bold;list-style-type:circle;align-item:left;padding-left:20px;padding-right:20px'>\"+\n",
    "                        \"<li>Confirmed: \"+confirmed+\"</li>\"+\n",
    "                        \"<li>Deaths:   \"+deaths+\"</li>\"+\n",
    "                         \"<li>Recovered: \"+ recovered + \"</li>\"+\n",
    "                         \"<li>Active: \"+ active + \"</li>\"+\n",
    "                        \"<li>Death Rate: \"+death_rate + \"</li>\"+\n",
    "                    \"</ul></div>\"\n",
    "    ).add_to(india_map)\n",
    "\n",
    "india_map\n",
    "\n"
   ]
  },
  {
   "cell_type": "code",
   "execution_count": 64,
   "metadata": {},
   "outputs": [
    {
     "data": {
      "text/html": [
       "<html><head><style>a:link {color: #0000ff;}a:visited {color: #e600ac;}a:hover {color: #2eb82e;}a:active {color: #00ff00;}</style></head><body><div style = \"Lucida Console, Courier, monospace;font-size:20px;color:#778899;line-height: 1.7;text-align: justify;\"><h2>Notebook covers:</h2>1. What is COVID-19.<br>2. Data loading from COVID19-India API repository.<br>3. Data Cleaning and Preparation.<br>4. Visualising N number of worst hit State using plotly scatter plot.<br>5. Plotting confirmed, recovered and death cases for the requested State.<br>6. Plotting all cases on State map using Folium.</li><br><h2>Symptoms:</h2>People may be sick with the virus for 1 to 14 days before developing symptoms. The most common symptoms of coronavirus disease (COVID-19) are fever, tiredness, and dry cough. Most people (about 80%)  recover from the disease without needing special treatment.<br>1. Cough.<br>2. Fever.<br>3. Tiredness.<br>4. Difficulty in breathing (severe cases).<p><img src=\"symprre.jpg\" align=\"center\"></img></p></div></body></html>"
      ],
      "text/plain": [
       "<IPython.core.display.HTML object>"
      ]
     },
     "metadata": {},
     "output_type": "display_data"
    }
   ],
   "source": [
    "display(HTML(\n",
    "    \n",
    "            '<html>'\n",
    "                '<head>'\n",
    "                         '<style>'\n",
    "                                'a:link {color: #0000ff;}'              # unvisited link\n",
    "                                'a:visited {color: #e600ac;}'           # visited link \n",
    "                                'a:hover {color: #2eb82e;}'            # mouse over link\n",
    "                                'a:active {color: #00ff00;}'          # selected link \n",
    "                       '</style>'\n",
    "                    '</head>'\n",
    "                '<body>'\n",
    "\n",
    "                    '<div style = \"Lucida Console, Courier, monospace;font-size:20px;color:#778899;line-height: 1.7;text-align: justify;\">'+\n",
    "\n",
    "                        '<h2>Notebook covers:</h2>'\n",
    "                         \n",
    "                            '1. What is COVID-19.<br>'+\n",
    "                            '2. Data loading from COVID19-India API repository.<br>'+\n",
    "                            '3. Data Cleaning and Preparation.<br>'+\n",
    "                            '4. Visualising N number of worst hit State using plotly scatter plot.<br>'+\n",
    "                            '5. Plotting confirmed, recovered and death cases for the requested State.<br>'+\n",
    "                            '6. Plotting all cases on State map using Folium.</li><br>'+\n",
    "                        \n",
    "\n",
    "                        '<h2>Symptoms:</h2>'+\n",
    "                        'People may be sick with the virus for 1 to 14 days before developing symptoms. The most common symptoms of coronavirus disease (COVID-19) are fever, tiredness, and dry cough. Most people (about 80%)  recover from the disease without needing special treatment.<br>'+\n",
    "                          \n",
    "                            '1. Cough.<br>'+\n",
    "                            '2. Fever.<br>'+\n",
    "                            '3. Tiredness.<br>'+\n",
    "                            '4. Difficulty in breathing (severe cases).'+\n",
    "                            '<p><img src=\"symprre.jpg\" align=\"center\"></img></p>'+\n",
    "                        \n",
    "                '</div>'\n",
    "          '</body>'\n",
    "        '</html>'\n",
    "  \n",
    "\n",
    "        ))\n",
    "    \n"
   ]
  },
  {
   "cell_type": "code",
   "execution_count": 65,
   "metadata": {},
   "outputs": [
    {
     "data": {
      "text/html": [
       "<div style = \"Lucida Console, Courier, monospace;font-size:20px;color:#778899;line-height: 1.7;text-align: justify;\">\n",
       "<h2>More Info on COVID-19:</h2>\n",
       "<a style=\"text-decoration:none\" href = https://www.who.int/health-topics/coronavirus>  https://www.who.int/health-topics/coronavirus </a><br>\n",
       "<a style=\"text-decoration:none\" href = https://www.who.int/emergencies/diseases/novel-coronavirus-2019>  https://www.who.int/emergencies/diseases/novel-coronavirus-2019  </a><br>\n",
       "<a style=\"text-decoration:none\" href = https://www.nature.com/articles/s41597-020-0448-0>  https://www.nature.com/articles/s41597-020-0448-0  </a> \n",
       "</div>\n",
       "<div style = \"Lucida Console, Courier, monospace;font-size:20px;color:#778899;\">\n",
       "<marquee direction=\"left\" height=\"100px\" width=\"90%\" scrollamount=\"15\"><h2>Disclaimer: This is not a official website. For more Details Visit to the Given Link  !!</h2></marquee>\n",
       "</div>\n",
       "    \n",
       "\n"
      ],
      "text/plain": [
       "<IPython.core.display.HTML object>"
      ]
     },
     "metadata": {},
     "output_type": "display_data"
    }
   ],
   "source": [
    "%%HTML\n",
    "<div style = \"Lucida Console, Courier, monospace;font-size:20px;color:#778899;line-height: 1.7;text-align: justify;\">\n",
    "<h2>More Info on COVID-19:</h2>\n",
    "<a style=\"text-decoration:none\" href = https://www.who.int/health-topics/coronavirus>  https://www.who.int/health-topics/coronavirus </a><br>\n",
    "<a style=\"text-decoration:none\" href = https://www.who.int/emergencies/diseases/novel-coronavirus-2019>  https://www.who.int/emergencies/diseases/novel-coronavirus-2019  </a><br>\n",
    "<a style=\"text-decoration:none\" href = https://www.nature.com/articles/s41597-020-0448-0>  https://www.nature.com/articles/s41597-020-0448-0  </a> \n",
    "</div>\n",
    "<div style = \"Lucida Console, Courier, monospace;font-size:20px;color:#778899;\">\n",
    "<marquee direction=\"left\" height=\"100px\" width=\"90%\" scrollamount=\"15\"><h2>Disclaimer: This is not a official website. For more Details Visit to the Given Link  !!</h2></marquee>\n",
    "</div>\n",
    "    \n",
    "\n"
   ]
  }
 ],
 "metadata": {
  "kernelspec": {
   "display_name": "Python 3",
   "language": "python",
   "name": "python3"
  },
  "language_info": {
   "codemirror_mode": {
    "name": "ipython",
    "version": 3
   },
   "file_extension": ".py",
   "mimetype": "text/x-python",
   "name": "python",
   "nbconvert_exporter": "python",
   "pygments_lexer": "ipython3",
   "version": "3.7.3"
  },
  "widgets": {
   "application/vnd.jupyter.widget-state+json": {
    "state": {},
    "version_major": 2,
    "version_minor": 0
   }
  }
 },
 "nbformat": 4,
 "nbformat_minor": 4
}
